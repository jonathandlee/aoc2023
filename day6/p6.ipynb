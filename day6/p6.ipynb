{
 "cells": [
  {
   "cell_type": "code",
   "execution_count": 24,
   "metadata": {},
   "outputs": [],
   "source": [
    "lines = [l.strip() for l in open(\"input.txt\").readlines()]\n",
    "elines = [l.strip() for l in open(\"enput.txt\").readlines()]\n"
   ]
  },
  {
   "cell_type": "code",
   "execution_count": 28,
   "metadata": {},
   "outputs": [
    {
     "name": "stdout",
     "output_type": "stream",
     "text": [
      "['Time:      7  15   30', 'Distance:  9  40  200']\n",
      "[0]\n",
      "hey\n",
      "9701198 49295269\n",
      "39594071\n",
      "128700\n"
     ]
    }
   ],
   "source": [
    "print(elines)\n",
    "\n",
    "\n",
    "#times = [58,99,64,69]\n",
    "#dists = [478,2232,1019,1071]\n",
    "\n",
    "#ways = [0,0,0,0]\n",
    "\n",
    "\n",
    "\n",
    "\n",
    "times = [58996469]\n",
    "dists = [478223210191071]\n",
    "ways = [0]\n",
    "\n",
    "\n",
    "\n",
    "# for i in range(len(times)):\n",
    "#   print(i)\n",
    "#   for j in range(times[i]):\n",
    "#     num = times[i] * (j+1) - ((j+1)**2)\n",
    "#     if num > dists[i]:\n",
    "#       #print(num)\n",
    "#       ways[i] += 1\n",
    "print(ways)  \n",
    "\n",
    "print('hey')\n",
    "left = 0\n",
    "\n",
    "right = times[0]\n",
    "while True:\n",
    "  if times[0] * (left+1) - ((left+1)**2) > dists[0]:\n",
    "    break\n",
    "  left += 1\n",
    "while True:\n",
    "  if times[0] * (right+1) - ((right+1)**2) > dists[0]:\n",
    "    break\n",
    "  right -= 1\n",
    "\n",
    "print(left,right)\n",
    "\n",
    "print(right-left)\n",
    "\n",
    "print(39*30*5*22)"
   ]
  }
 ],
 "metadata": {
  "kernelspec": {
   "display_name": "info2950",
   "language": "python",
   "name": "python3"
  },
  "language_info": {
   "codemirror_mode": {
    "name": "ipython",
    "version": 3
   },
   "file_extension": ".py",
   "mimetype": "text/x-python",
   "name": "python",
   "nbconvert_exporter": "python",
   "pygments_lexer": "ipython3",
   "version": "3.9.18"
  }
 },
 "nbformat": 4,
 "nbformat_minor": 2
}
