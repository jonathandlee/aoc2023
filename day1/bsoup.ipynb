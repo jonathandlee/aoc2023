{
 "cells": [
  {
   "cell_type": "code",
   "execution_count": 3,
   "metadata": {},
   "outputs": [],
   "source": [
    "from bs4 import BeautifulSoup\n",
    "import requests\n"
   ]
  },
  {
   "cell_type": "code",
   "execution_count": 20,
   "metadata": {},
   "outputs": [
    {
     "name": "stdout",
     "output_type": "stream",
     "text": [
      "<Response [200]>\n"
     ]
    }
   ],
   "source": [
    "r = requests.get(\"https://nuforc.org/sighting/?id=999\")\n",
    "print(r)"
   ]
  },
  {
   "cell_type": "markdown",
   "metadata": {},
   "source": []
  },
  {
   "cell_type": "code",
   "execution_count": 21,
   "metadata": {},
   "outputs": [
    {
     "name": "stdout",
     "output_type": "stream",
     "text": [
      "Date and Time: 1995-11-19 21:50:00 Local\n"
     ]
    },
    {
     "name": "stderr",
     "output_type": "stream",
     "text": [
      "/var/folders/z5/ckx19k0d48n5yc1mlv4x_76m0000gn/T/ipykernel_11591/507018672.py:7: DeprecationWarning: The 'text' argument to find()-type methods is deprecated. Use 'string' instead.\n",
      "  occurred_tag = soup.find('b', text='Occurred:')\n"
     ]
    }
   ],
   "source": [
    "acc = []\n",
    "acc2 = []\n",
    "for i in range(999,1010):\n",
    "  r = requests.get(\"https://nuforc.org/sighting/?id=\"+i)\n",
    "  if r.status_code == 200:\n",
    "      # Parse the HTML content with Beautiful Soup\n",
    "      soup = BeautifulSoup(r.content, 'html.parser')\n",
    "\n",
    "      # Assuming you're looking for the same pattern \"<b>Occurred:</b> Date/Time\"\n",
    "      # Find the <b> tag with text 'Occurred:'\n",
    "      occurred_tag = soup.find('b', text='Occurred:')\n",
    "      location_tag = soup.find('b', text='Location':)\n",
    "\n",
    "      # Get the next sibling of the <b> tag, which should be the date/time\n",
    "      date_time = occurred_tag.next_sibling.strip() if occurred_tag else None\n",
    "\n",
    "      print(\"Date and Time:\", date_time)\n",
    "      print(\"Location:\", location_tag)\n",
    "      acc.append(date_time)\n",
    "      acc2.append(location_tag)\n",
    "\n",
    "  else:\n",
    "      print(\"Failed to fetch the webpage\")\n"
   ]
  }
 ],
 "metadata": {
  "kernelspec": {
   "display_name": "info2950",
   "language": "python",
   "name": "python3"
  },
  "language_info": {
   "codemirror_mode": {
    "name": "ipython",
    "version": 3
   },
   "file_extension": ".py",
   "mimetype": "text/x-python",
   "name": "python",
   "nbconvert_exporter": "python",
   "pygments_lexer": "ipython3",
   "version": "3.9.18"
  }
 },
 "nbformat": 4,
 "nbformat_minor": 2
}
